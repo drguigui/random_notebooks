{
 "metadata": {
  "name": "",
  "signature": "sha256:f5cfcd59247f2664340e4090febe3182abb1a48d9cf50bd0f96bf208b5f491b0"
 },
 "nbformat": 3,
 "nbformat_minor": 0,
 "worksheets": [
  {
   "cells": [
    {
     "cell_type": "heading",
     "level": 1,
     "metadata": {},
     "source": [
      "Study of the Lidar Wavelength problem\n"
     ]
    },
    {
     "cell_type": "code",
     "collapsed": false,
     "input": [
      "%pylab inline\n",
      "from __future__ import division\n",
      "from IPython.display import display\n",
      "from IPython.display import Image\n",
      "from IPython.display import Latex\n"
     ],
     "language": "python",
     "metadata": {},
     "outputs": [
      {
       "output_type": "stream",
       "stream": "stdout",
       "text": [
        "Populating the interactive namespace from numpy and matplotlib\n"
       ]
      }
     ],
     "prompt_number": 1
    },
    {
     "cell_type": "code",
     "collapsed": false,
     "input": [
      "d = loadtxt(\"spectralaseruv.txt\")"
     ],
     "language": "python",
     "metadata": {},
     "outputs": [],
     "prompt_number": 5
    },
    {
     "cell_type": "code",
     "collapsed": false,
     "input": [
      "print d"
     ],
     "language": "python",
     "metadata": {},
     "outputs": [
      {
       "output_type": "stream",
       "stream": "stdout",
       "text": [
        "[[  177.85   1186.   ]\n",
        " [  178.205  1241.   ]\n",
        " [  178.559  1213.   ]\n",
        " ..., \n",
        " [  407.914  1223.   ]\n",
        " [  408.041  1195.   ]\n",
        " [  408.169  1224.   ]]\n"
       ]
      }
     ],
     "prompt_number": 6
    },
    {
     "cell_type": "code",
     "collapsed": false,
     "input": [
      "def ComputeLineWavelength(w, v, line):\n",
      "    \"\"\" Returns the wavelength of the line based on the weighting\"\"\"\n",
      "    return sum(w[line[0]: line[1] + 1] * v[line[0]: line[1] + 1]) / sum(v[line[0]: line[1] + 1])\n",
      "\n",
      "\n",
      "\n",
      "def ComputeLineWavelengthMax(w, v, line):\n",
      "    \"\"\" Returns the wavelength of the line based one the location of the maximum value\"\"\"\n",
      "    return w[line[0]: line[1] + 1][v[line[0]: line[1] + 1].argmax()]\n",
      "w = d[:, 0] # This is the wavelength in the data file\n",
      "v = d[:, 1] # This is the intensities in the data file\n",
      "firstline = [380, 393] # those are the beginning and end points of the first line\n",
      "secondline = [401, 415] # those are the beginning and end points of the first line\n",
      "\n",
      "print \"The first line is between the wavelength\", w[firstline], \" (nm)\"\n",
      "print \"The second line is between the wavelength\", w[secondline], \" (nm)\"\n"
     ],
     "language": "python",
     "metadata": {},
     "outputs": [
      {
       "output_type": "stream",
       "stream": "stdout",
       "text": [
        "The first line is between the wavelength [ 284.623  287.832]  (nm)\n",
        "The second line is between the wavelength [ 289.799  293.227]  (nm)\n"
       ]
      }
     ],
     "prompt_number": 9
    },
    {
     "cell_type": "code",
     "collapsed": false,
     "input": [
      "print \"Using the location of the maximum intensity, we have the following line wavelengths:\"\n",
      "\n",
      "print \"First Line\", ComputeLineWavelengthMax(w, v, firstline)\n",
      "print \"Second Line\", ComputeLineWavelengthMax(w, v, secondline)"
     ],
     "language": "python",
     "metadata": {},
     "outputs": [
      {
       "output_type": "stream",
       "stream": "stdout",
       "text": [
        "Using the location of the maximum intensity, we have the following line wavelengths:\n",
        "First Line 286.846\n",
        "Second Line 292.005\n"
       ]
      }
     ],
     "prompt_number": 11
    },
    {
     "cell_type": "code",
     "collapsed": false,
     "input": [
      "print \"Using the ponderation with the intensity, we have the following line wavelengths:\"\n",
      "print \"First Line\", ComputeLineWavelength(w, v, firstline)\n",
      "print \"Second Line\", ComputeLineWavelength(w, v, secondline)\n"
     ],
     "language": "python",
     "metadata": {},
     "outputs": [
      {
       "output_type": "stream",
       "stream": "stdout",
       "text": [
        "Using the ponderation with the intensity, we have the following line wavelengths:\n",
        "First Line 286.377555858\n",
        "Second Line 291.661802906\n"
       ]
      }
     ],
     "prompt_number": 12
    },
    {
     "cell_type": "code",
     "collapsed": false,
     "input": [
      "axvline(ComputeLineWavelength(w, v, firstline), color=\"r\", label=\"Ponderation\")\n",
      "axvline(ComputeLineWavelength(w, v, secondline), color=\"r\")\n",
      "axvline(ComputeLineWavelengthMax(w, v, firstline), color=\"g\", label=\"Maximum value\")\n",
      "axvline(ComputeLineWavelengthMax(w, v, secondline), color=\"g\")\n",
      "#text(293, 4000, \"Delta O3 from : \\n Ponderation =\"+  str(diffp) +\" m2\\n Maximum wavelength = \" +  str(diffm) + \" m2\\n Relative uncertainty = \" +str((diffp - diffm) / diffm * 100) + \"%\")\n",
      "#text(300, 3500, \"Maximum = \" +  str(diffm) + \" m2; Relative uncert = \" +str((diffp - diffm) / diffm))\n",
      "xlabel(\"Wavelength [nm]\")\n",
      "ylabel(\"Laser value\")\n",
      "\n",
      "plot(w,v, label=\"laser spectra\")\n",
      "axis([283, 295,1000, 8000])\n",
      "legend(loc = \"best\")\n",
      "show()"
     ],
     "language": "python",
     "metadata": {},
     "outputs": [
      {
       "metadata": {},
       "output_type": "display_data",
       "png": "[encoded data removed]",
       "text": [
        "<matplotlib.figure.Figure at 0x7f4cc880aa90>"
       ]
      }
     ],
     "prompt_number": 18
    },
    {
     "cell_type": "markdown",
     "metadata": {},
     "source": [
      "As we can see, the po"
     ]
    }
   ],
   "metadata": {}
  }
 ]
}